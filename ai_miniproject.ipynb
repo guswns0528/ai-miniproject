{
 "cells": [
  {
   "cell_type": "code",
   "execution_count": 1,
   "metadata": {},
   "outputs": [
    {
     "name": "stderr",
     "output_type": "stream",
     "text": [
      "\u001b[34m\u001b[1mwandb\u001b[0m: Currently logged in as: \u001b[33mguswns0528\u001b[0m (\u001b[33mguswns0528-seoul-national-university\u001b[0m) to \u001b[32mhttps://api.wandb.ai\u001b[0m. Use \u001b[1m`wandb login --relogin`\u001b[0m to force relogin\n"
     ]
    },
    {
     "data": {
      "text/plain": [
       "True"
      ]
     },
     "execution_count": 1,
     "metadata": {},
     "output_type": "execute_result"
    }
   ],
   "source": [
    "import os\n",
    "os.environ['WANDB_NOTEBOOK_NAME'] = 'ai_miniproject.ipynb'\n",
    "import wandb\n",
    "wandb.login()"
   ]
  },
  {
   "cell_type": "code",
   "execution_count": 2,
   "metadata": {},
   "outputs": [],
   "source": [
    "sweep_config = {\n",
    "    'method': 'random'\n",
    "}\n",
    "\n",
    "metric = {\n",
    "    'name': 'val_loss',\n",
    "    'goal': 'minimize'   \n",
    "}\n",
    "\n",
    "sweep_config['metric'] = metric\n",
    "\n",
    "parameters_dict = {\n",
    "    'epochs': {\n",
    "        'values': [20, 40]\n",
    "    },\n",
    "    'in_train': {\n",
    "        'value': True\n",
    "    },\n",
    "}\n",
    "\n",
    "import math\n",
    "parameters_dict['lr'] = {\n",
    "    'distribution': 'log_uniform',\n",
    "    'min': math.log(1e-4),\n",
    "    'max': math.log(0.1),\n",
    "}\n",
    "parameters_dict['lr'] = { 'value': 0.03 }\n",
    "\n",
    "parameters_dict['optimizer'] = {\n",
    "    'values': ['adam', 'sgd']\n",
    "}\n",
    "parameters_dict['optimizer'] = { 'value' : 'sgd' }\n",
    "\n",
    "parameters_dict['batch_size'] = {\n",
    "    'distribution': 'q_log_uniform_values',\n",
    "    'q': 32,\n",
    "    'min': 128,\n",
    "    'max': 1024,\n",
    "}\n",
    "parameters_dict['batch_size'] = {\n",
    "    'value': 256\n",
    "}\n",
    "\n",
    "parameters_dict['momentum'] = {\n",
    "    'distribution': 'uniform',\n",
    "    'min': 0.0,\n",
    "    'max': 1.0,\n",
    "}\n",
    "parameters_dict['momentum'] = { 'value': 0.9 }\n",
    "\n",
    "parameters_dict['weight_decay'] = {\n",
    "    'values': [1e-5, 1e-4, 1e-3]\n",
    "}\n",
    "parameters_dict['weight_decay'] = { 'value': 1e-5 }\n",
    "    \n",
    "sweep_config['parameters'] = parameters_dict\n",
    "sweep_config['early_terminate'] = {\n",
    "    'type': 'hyperband',\n",
    "    's': 2,\n",
    "    'eta': 3,\n",
    "    'max_iter': 18,\n",
    "}"
   ]
  },
  {
   "cell_type": "code",
   "execution_count": 38,
   "metadata": {},
   "outputs": [
    {
     "name": "stderr",
     "output_type": "stream",
     "text": [
      "\u001b[34m\u001b[1mwandb\u001b[0m: \u001b[33mWARNING\u001b[0m Malformed sweep config detected! This may cause your sweep to behave in unexpected ways.\n",
      "\u001b[34m\u001b[1mwandb\u001b[0m: \u001b[33mWARNING\u001b[0m To avoid this, please fix the sweep config schema violations below:\n",
      "\u001b[34m\u001b[1mwandb\u001b[0m: \u001b[33mWARNING\u001b[0m   Violation 1. lr uses log_uniform, where min/max specify base-e exponents. Use log_uniform_values to specify limit values.\n"
     ]
    },
    {
     "name": "stdout",
     "output_type": "stream",
     "text": [
      "Create sweep with ID: ymg74elm\n",
      "Sweep URL: https://wandb.ai/guswns0528-seoul-national-university/ai-miniproject/sweeps/ymg74elm\n"
     ]
    }
   ],
   "source": [
    "sweep_id = wandb.sweep(sweep_config, project=\"ai-miniproject\")"
   ]
  },
  {
   "cell_type": "code",
   "execution_count": 87,
   "metadata": {
    "id": "lPzIftmwg6uM"
   },
   "outputs": [],
   "source": [
    "import torch\n",
    "import torch.nn as nn\n",
    "import torch.nn.functional as F\n",
    "import torchvision\n",
    "import torchvision.transforms as transforms\n",
    "import matplotlib.pyplot as plt\n",
    "from resnet import resnet110\n",
    "from torch_lr_finder import LRFinder\n",
    "\n",
    "from tqdm.auto import tqdm\n",
    "from livelossplot import PlotLosses\n",
    "from livelossplot.outputs import MatplotlibPlot\n",
    "\n",
    "import numpy as np\n",
    "\n",
    "from torcheval.metrics.functional import multiclass_confusion_matrix\n",
    "import seaborn as sn\n",
    "import pandas as pd\n",
    "\n",
    "torch.backends.cudnn.benchmark = True\n",
    "\n",
    "device_type = 'cuda' if torch.cuda.is_available() else 'cpu'\n",
    "device = torch.device(device_type)"
   ]
  },
  {
   "cell_type": "code",
   "execution_count": 98,
   "metadata": {
    "id": "hSqcSK69jTSg"
   },
   "outputs": [],
   "source": [
    "class Residual(nn.Module):\n",
    "    def __init__(self, in_channels, out_channels, stride=1):\n",
    "        super().__init__()\n",
    "        stride = 1 if in_channels == out_channels else 2\n",
    "        self.block = nn.Sequential(\n",
    "            nn.Conv2d(in_channels, out_channels, kernel_size=3, stride=stride, padding=1, bias=False),\n",
    "            nn.BatchNorm2d(out_channels),\n",
    "            nn.ReLU(),\n",
    "            nn.Conv2d(out_channels, out_channels, kernel_size=3, stride=1, padding=1, bias=False),\n",
    "            nn.BatchNorm2d(out_channels)\n",
    "        )\n",
    "        self.downsample = lambda x: x\n",
    "        if stride != 1:\n",
    "            self.downsample = nn.Sequential(\n",
    "                nn.Conv2d(in_channels, out_channels, kernel_size=1, stride=2, padding=0, bias=False),\n",
    "                nn.BatchNorm2d(out_channels)\n",
    "            )\n",
    "\n",
    "    def forward(self, x):\n",
    "        out = self.block(x)\n",
    "        out = F.relu(self.downsample(x) + out)\n",
    "        return out\n",
    "        \n",
    "class Net(nn.Module):\n",
    "    def __init__(self):\n",
    "        super().__init__()\n",
    "        block = Residual\n",
    "        self.initial = nn.Sequential(\n",
    "            nn.Conv2d(3, 16, kernel_size=3, stride=1, padding=1, bias=False),\n",
    "            nn.BatchNorm2d(16),\n",
    "            nn.ReLU(inplace=True),\n",
    "        )\n",
    "        self.residual_layers = nn.Sequential(\n",
    "            *([block(16, 16) for _ in range(4)] + \n",
    "            [block(16, 32)] + [block(32, 32) for _ in range(4 - 1)] +\n",
    "            [block(32, 64)] + [block(64, 64) for _ in range(4 - 1)])\n",
    "        )\n",
    "        self.avgpool = nn.AdaptiveAvgPool2d((1, 1))\n",
    "        self.fc = nn.Linear(64, 10)\n",
    "\n",
    "    def forward(self, x):\n",
    "        x = self.initial(x)\n",
    "        x = self.residual_layers(x)\n",
    "        x = self.avgpool(x)\n",
    "        x = torch.flatten(x, 1)\n",
    "        x = self.fc(x)\n",
    "\n",
    "        return x"
   ]
  },
  {
   "cell_type": "code",
   "execution_count": 100,
   "metadata": {
    "colab": {
     "base_uri": "https://localhost:8080/"
    },
    "id": "l9YnygBZjqHD",
    "outputId": "28b1f18c-5ef8-48a6-cd99-41ae998f3e80"
   },
   "outputs": [],
   "source": [
    "from torchvision.transforms import v2\n",
    "\n",
    "transform = transforms.Compose([\n",
    "    transforms.ToTensor(),\n",
    "    transforms.Normalize(\n",
    "        mean=[0.485, 0.456, 0.406],\n",
    "        std=[0.229, 0.224, 0.225]\n",
    "    )\n",
    "])\n",
    "\n",
    "train_and_val = torchvision.datasets.CIFAR10(\n",
    "    root='./data',\n",
    "    train=True,\n",
    "    download=True,\n",
    "    transform=transforms.Compose([\n",
    "        transform\n",
    "    ])\n",
    ")\n",
    "\n",
    "total = len(train_and_val)\n",
    "trainset = torch.utils.data.Subset(train_and_val, range(int(total * 0.8)))\n",
    "validationset = torch.utils.data.Subset(train_and_val, range(int(total * 0.8), total))\n",
    "\n",
    "testset = torchvision.datasets.CIFAR10(\n",
    "    root='./data',\n",
    "    train=False,\n",
    "    download=True,\n",
    "    transform=transform\n",
    ")"
   ]
  },
  {
   "cell_type": "code",
   "execution_count": 6,
   "metadata": {
    "id": "Yn7LaoNEksqL"
   },
   "outputs": [],
   "source": [
    "def baseline(batch_size):\n",
    "    trainloader = torch.utils.data.DataLoader(\n",
    "        trainset,\n",
    "        batch_size=batch_size,\n",
    "        shuffle=True,\n",
    "        num_workers=8,\n",
    "        prefetch_factor=8,\n",
    "    )\n",
    "    valloader = torch.utils.data.DataLoader(\n",
    "        validationset,\n",
    "        batch_size=batch_size,\n",
    "        shuffle=True,\n",
    "        num_workers=8,\n",
    "        prefetch_factor=8,\n",
    "    )\n",
    "    testloader = torch.utils.data.DataLoader(\n",
    "        testset,\n",
    "        batch_size=batch_size,\n",
    "        shuffle=True,\n",
    "        num_workers=8\n",
    "    )\n",
    "    return trainloader, valloader, testloader"
   ]
  },
  {
   "cell_type": "code",
   "execution_count": 63,
   "metadata": {},
   "outputs": [],
   "source": [
    "class RandomLabelDataset(torch.utils.data.Dataset):\n",
    "    def __init__(self, origin):\n",
    "        super().__init__()\n",
    "        self.origin = origin\n",
    "        self.label_indicies = [i for i in range(len(origin))]\n",
    "        np.random.shuffle(self.label_indicies)\n",
    "\n",
    "    def __getitem__(self, idx):\n",
    "        return self.origin[idx][0], self.origin[self.label_indicies[idx]][1]\n",
    "\n",
    "    def __getitems__(self, indicies):\n",
    "        return [self[idx] for idx in indicies]\n",
    "\n",
    "    def __len__(self):\n",
    "        return len(self.origin)\n",
    "\n",
    "random_label_trainset = RandomLabelDataset(trainset)\n",
    "def random_label(batch_size, reset=False):\n",
    "    trainloader = torch.utils.data.DataLoader(\n",
    "        random_label_trainset,\n",
    "        batch_size=batch_size,\n",
    "        shuffle=True,\n",
    "        num_workers=8,\n",
    "        prefetch_factor=8,\n",
    "    )\n",
    "    valloader = torch.utils.data.DataLoader(\n",
    "        validationset,\n",
    "        batch_size=batch_size,\n",
    "        shuffle=True,\n",
    "        num_workers=8,\n",
    "        prefetch_factor=8,\n",
    "    )\n",
    "    testloader = torch.utils.data.DataLoader(\n",
    "        testset,\n",
    "        batch_size=batch_size,\n",
    "        shuffle=True,\n",
    "        num_workers=8\n",
    "    )\n",
    "    return trainloader, valloader, testloader"
   ]
  },
  {
   "cell_type": "code",
   "execution_count": 66,
   "metadata": {},
   "outputs": [],
   "source": [
    "class NoiseLabelDataset(torch.utils.data.Dataset):\n",
    "    def __init__(self, origin, error_rate=0.2):\n",
    "        super().__init__()\n",
    "        self.origin = origin\n",
    "        self.error_rate = error_rate\n",
    "        self.labels = [\n",
    "            np.random.randint(0, 10) if np.random.uniform(0, 1, 1) <= error_rate else self.origin[i][1]\n",
    "            for i in range(len(origin))\n",
    "        ]\n",
    "\n",
    "    def __getitem__(self, idx):\n",
    "        v, _ = self.origin[idx]\n",
    "        label = self.labels[idx]\n",
    "        return v, label\n",
    "\n",
    "    def __getitems__(self, indicies):\n",
    "        return [self[idx] for idx in indicies]\n",
    "        \n",
    "    def __len__(self):\n",
    "        return len(self.labels)\n",
    "\n",
    "noise_label_trainset = NoiseLabelDataset(trainset)\n",
    "def noise_label(batch_size, reset=False):\n",
    "    trainloader = torch.utils.data.DataLoader(\n",
    "        noise_label_trainset,\n",
    "        batch_size=batch_size,\n",
    "        shuffle=True,\n",
    "        num_workers=8,\n",
    "        prefetch_factor=8,\n",
    "    )\n",
    "    valloader = torch.utils.data.DataLoader(\n",
    "        validationset,\n",
    "        batch_size=batch_size,\n",
    "        shuffle=True,\n",
    "        num_workers=8,\n",
    "        prefetch_factor=8,\n",
    "    )\n",
    "    testloader = torch.utils.data.DataLoader(\n",
    "        testset,\n",
    "        batch_size=batch_size,\n",
    "        shuffle=True,\n",
    "        num_workers=8\n",
    "    )\n",
    "    return trainloader, valloader, testloader"
   ]
  },
  {
   "cell_type": "code",
   "execution_count": 103,
   "metadata": {},
   "outputs": [],
   "source": [
    "pertubation_transform = transforms.Compose([\n",
    "    transforms.v2.AutoAugment(\n",
    "        policy=torchvision.transforms.autoaugment.AutoAugmentPolicy.CIFAR10,\n",
    "    ),\n",
    "    transforms.ToTensor(),\n",
    "    transforms.Normalize(\n",
    "        mean=[0.485, 0.456, 0.406],\n",
    "        std=[0.229, 0.224, 0.225]\n",
    "    )\n",
    "])\n",
    "\n",
    "pertubation_train_and_val = torchvision.datasets.CIFAR10(\n",
    "    root='./data',\n",
    "    train=True,\n",
    "    download=True,\n",
    "    transform=transforms.Compose([\n",
    "        pertubation_transform\n",
    "    ])\n",
    ")\n",
    "pertubation_trainset = torch.utils.data.Subset(pertubation_train_and_val, range(int(total * 0.8)))\n",
    "\n",
    "def pertubation(batch_size):\n",
    "    trainloader = torch.utils.data.DataLoader(\n",
    "        pertubation_trainset,\n",
    "        batch_size=batch_size,\n",
    "        shuffle=True,\n",
    "        num_workers=8,\n",
    "        prefetch_factor=8,\n",
    "    )\n",
    "    valloader = torch.utils.data.DataLoader(\n",
    "        validationset,\n",
    "        batch_size=batch_size,\n",
    "        shuffle=True,\n",
    "        num_workers=8,\n",
    "        prefetch_factor=8,\n",
    "    )\n",
    "    testloader = torch.utils.data.DataLoader(\n",
    "        testset,\n",
    "        batch_size=batch_size,\n",
    "        shuffle=True,\n",
    "        num_workers=8\n",
    "    )\n",
    "    return trainloader, valloader, testloader"
   ]
  },
  {
   "cell_type": "code",
   "execution_count": 99,
   "metadata": {
    "id": "P5eEaZ02k6oT"
   },
   "outputs": [],
   "source": [
    "def train_epoch(model, loader, optimizer, scaler, train=True, result=False):\n",
    "    if train:\n",
    "        model.train()\n",
    "    else:\n",
    "        model.eval()\n",
    "    criterion = nn.CrossEntropyLoss().to(device)\n",
    "\n",
    "    total = torch.zeros(1, device=device)\n",
    "    correct = torch.zeros(1, device=device)\n",
    "    total_loss = torch.zeros(1, device=device)\n",
    "\n",
    "    preds = []\n",
    "    truthes = []\n",
    "    \n",
    "    def train_batch(i, data):\n",
    "        nonlocal total, correct, total_loss, criterion\n",
    "        inputs, labels = [x.to(device) for x in data]\n",
    "        inputs = inputs.to(memory_format=torch.channels_last)\n",
    "        optimizer.zero_grad(set_to_none=True)\n",
    "        with torch.autocast(device_type=device_type, dtype=torch.float16, enabled=True):\n",
    "            outputs = model(inputs)\n",
    "            _, predicted = torch.max(outputs, 1)\n",
    "            correct += (predicted == labels).sum()\n",
    "            loss = criterion(outputs, labels)\n",
    "        total += labels.size(0)\n",
    "        if train:\n",
    "            scaler.scale(loss).backward()\n",
    "            scaler.step(optimizer)\n",
    "            scaler.update()\n",
    "        total_loss += loss\n",
    "        if result:\n",
    "            preds.extend(predicted.data.cpu().numpy())\n",
    "            truthes.extend(labels.data.cpu().numpy())\n",
    "\n",
    "    for i, data in enumerate(loader):\n",
    "        if train:\n",
    "            train_batch(i, data)\n",
    "        else:\n",
    "            with torch.no_grad():\n",
    "                train_batch(i, data)\n",
    "\n",
    "    avg_loss = (total_loss / total).item()\n",
    "    accuracy = (correct / total).item()\n",
    "\n",
    "    if result:\n",
    "        return accuracy, avg_loss, preds, truthes\n",
    "    else:\n",
    "        return accuracy, avg_loss\n",
    "        \n",
    "def train(config=None):\n",
    "    with wandb.init(config=config):\n",
    "        config = wandb.config\n",
    "        in_train = config.in_train\n",
    "        epochs = config.epochs\n",
    "        scaler = torch.amp.GradScaler(\"cuda\", enabled=True)\n",
    "        dataset = config.get('dataset', 'baseline')\n",
    "        if dataset == 'baseline':\n",
    "            dataset_function = baseline\n",
    "        elif dataset == 'random_label':\n",
    "            dataset_function = random_label\n",
    "        elif dataset == 'noise_label':\n",
    "            dataset_function = noise_label\n",
    "        elif dataset == 'pertubation':\n",
    "            dataset_function = pertubation\n",
    "        trainloader, valloader, testloader = dataset_function(config.batch_size)\n",
    "        optimizer_type = config.optimizer\n",
    "        lr = config.lr\n",
    "        model = Net().to(device, memory_format=torch.channels_last)\n",
    "        wandb.watch(model)\n",
    "        if optimizer_type == 'adam':\n",
    "            optimizer = torch.optim.AdamW(model.parameters(), lr=lr)\n",
    "        elif optimizer_type == 'sgd':\n",
    "            optimizer = torch.optim.SGD(model.parameters(), lr=lr, momentum=config.momentum, weight_decay=config.weight_decay)\n",
    "        scheduler = torch.optim.lr_scheduler.ReduceLROnPlateau(optimizer, mode='min', factor=0.25, patience=10, threshold=1e-4, threshold_mode='rel', cooldown=0, min_lr=0, eps=1e-8)\n",
    "        #scheduler = None\n",
    "        if in_train:\n",
    "            for epoch in range(epochs):\n",
    "                accuracy, avg_loss = train_epoch(model, trainloader, optimizer, scaler)\n",
    "                val_accuracy, val_avg_loss = train_epoch(model, valloader, optimizer, scaler, train=False)\n",
    "                wandb.log({\n",
    "                    'val_loss': val_avg_loss,\n",
    "                    'loss': avg_loss,\n",
    "                    'acc': accuracy,\n",
    "                    'val_acc': val_accuracy,\n",
    "                    \"epoch\": epoch,\n",
    "                })\n",
    "            if scheduler:\n",
    "                scheduler.step(val_avg_loss)\n",
    "\n",
    "        test_accuracy, test_avg_loss, preds, truthes = train_epoch(model, testloader, optimizer, scaler, train=False, result=True)\n",
    "        wandb.log({\n",
    "            'test loss': test_avg_loss,\n",
    "            'test acc': test_accuracy,\n",
    "        })\n",
    "    return model, preds, truthes"
   ]
  },
  {
   "cell_type": "code",
   "execution_count": null,
   "metadata": {},
   "outputs": [],
   "source": [
    "wandb.agent(sweep_id, train, count=500)"
   ]
  },
  {
   "cell_type": "code",
   "execution_count": 106,
   "metadata": {},
   "outputs": [
    {
     "data": {
      "text/html": [
       "Tracking run with wandb version 0.19.11"
      ],
      "text/plain": [
       "<IPython.core.display.HTML object>"
      ]
     },
     "metadata": {},
     "output_type": "display_data"
    },
    {
     "data": {
      "text/html": [
       "Run data is saved locally in <code>/home/phobia/ai-miniproject/wandb/run-20250516_234920-ahef3juf</code>"
      ],
      "text/plain": [
       "<IPython.core.display.HTML object>"
      ]
     },
     "metadata": {},
     "output_type": "display_data"
    },
    {
     "data": {
      "text/html": [
       "Syncing run <strong><a href='https://wandb.ai/guswns0528-seoul-national-university/ai-miniproject/runs/ahef3juf' target=\"_blank\">graceful-elevator-318</a></strong> to <a href='https://wandb.ai/guswns0528-seoul-national-university/ai-miniproject' target=\"_blank\">Weights & Biases</a> (<a href='https://wandb.me/developer-guide' target=\"_blank\">docs</a>)<br>"
      ],
      "text/plain": [
       "<IPython.core.display.HTML object>"
      ]
     },
     "metadata": {},
     "output_type": "display_data"
    },
    {
     "data": {
      "text/html": [
       " View project at <a href='https://wandb.ai/guswns0528-seoul-national-university/ai-miniproject' target=\"_blank\">https://wandb.ai/guswns0528-seoul-national-university/ai-miniproject</a>"
      ],
      "text/plain": [
       "<IPython.core.display.HTML object>"
      ]
     },
     "metadata": {},
     "output_type": "display_data"
    },
    {
     "data": {
      "text/html": [
       " View run at <a href='https://wandb.ai/guswns0528-seoul-national-university/ai-miniproject/runs/ahef3juf' target=\"_blank\">https://wandb.ai/guswns0528-seoul-national-university/ai-miniproject/runs/ahef3juf</a>"
      ],
      "text/plain": [
       "<IPython.core.display.HTML object>"
      ]
     },
     "metadata": {},
     "output_type": "display_data"
    },
    {
     "data": {
      "text/html": [],
      "text/plain": [
       "<IPython.core.display.HTML object>"
      ]
     },
     "metadata": {},
     "output_type": "display_data"
    },
    {
     "data": {
      "text/html": [
       "<br>    <style><br>        .wandb-row {<br>            display: flex;<br>            flex-direction: row;<br>            flex-wrap: wrap;<br>            justify-content: flex-start;<br>            width: 100%;<br>        }<br>        .wandb-col {<br>            display: flex;<br>            flex-direction: column;<br>            flex-basis: 100%;<br>            flex: 1;<br>            padding: 10px;<br>        }<br>    </style><br><div class=\"wandb-row\"><div class=\"wandb-col\"><h3>Run history:</h3><br/><table class=\"wandb\"><tr><td>acc</td><td>▁▂▄▄▅▆▆▇▇█▇███████████████████▇█████████</td></tr><tr><td>epoch</td><td>▁▁▁▁▂▂▂▂▃▃▃▄▄▄▄▄▄▄▄▅▅▅▅▅▅▆▆▆▆▆▆▇▇▇▇▇▇▇▇█</td></tr><tr><td>loss</td><td>█▄▄▃▂▂▂▂▁▁▁▁▁▁▁▁▁▁▁▁▁▁▁▁▁▁▁▁▁▁▁▁▁▁▁▁▁▁▁▁</td></tr><tr><td>test acc</td><td>▁</td></tr><tr><td>test loss</td><td>▁</td></tr><tr><td>val_acc</td><td>▁▃▆▄▆▇▆▆▆▆▇▇▇▇▇▇▇████████████▇██████████</td></tr><tr><td>val_loss</td><td>█▁▁▄▃▄▄▃▄▃▄▃▃▃▃▃▃▃▃▃▃▄▃▄▃▃▇█▄▃▃▃▃▃▄▄▃▃▃▃</td></tr></table><br/></div><div class=\"wandb-col\"><h3>Run summary:</h3><br/><table class=\"wandb\"><tr><td>acc</td><td>1</td></tr><tr><td>epoch</td><td>99</td></tr><tr><td>loss</td><td>0.0</td></tr><tr><td>test acc</td><td>0.8172</td></tr><tr><td>test loss</td><td>0.00428</td></tr><tr><td>val_acc</td><td>0.8294</td></tr><tr><td>val_loss</td><td>0.00411</td></tr></table><br/></div></div>"
      ],
      "text/plain": [
       "<IPython.core.display.HTML object>"
      ]
     },
     "metadata": {},
     "output_type": "display_data"
    },
    {
     "data": {
      "text/html": [
       " View run <strong style=\"color:#cdcd00\">graceful-elevator-318</strong> at: <a href='https://wandb.ai/guswns0528-seoul-national-university/ai-miniproject/runs/ahef3juf' target=\"_blank\">https://wandb.ai/guswns0528-seoul-national-university/ai-miniproject/runs/ahef3juf</a><br> View project at: <a href='https://wandb.ai/guswns0528-seoul-national-university/ai-miniproject' target=\"_blank\">https://wandb.ai/guswns0528-seoul-national-university/ai-miniproject</a><br>Synced 5 W&B file(s), 0 media file(s), 0 artifact file(s) and 0 other file(s)"
      ],
      "text/plain": [
       "<IPython.core.display.HTML object>"
      ]
     },
     "metadata": {},
     "output_type": "display_data"
    },
    {
     "data": {
      "text/html": [
       "Find logs at: <code>./wandb/run-20250516_234920-ahef3juf/logs</code>"
      ],
      "text/plain": [
       "<IPython.core.display.HTML object>"
      ]
     },
     "metadata": {},
     "output_type": "display_data"
    }
   ],
   "source": [
    "config = {\n",
    "    'batch_size': 256,\n",
    "    'epochs': 100,\n",
    "    'in_train': True,\n",
    "    'lr': 0.03,\n",
    "    'momentum': 0.9,\n",
    "    'optimizer': 'sgd',\n",
    "    'weight_decay': 1e-5,\n",
    "    'entity': 'guswns0528-seoul-national-university',\n",
    "    'project': 'ai-miniproject',\n",
    "    'dataset': 'baseline'\n",
    "}\n",
    "model, preds, truthes = train(config)"
   ]
  },
  {
   "cell_type": "code",
   "execution_count": 105,
   "metadata": {},
   "outputs": [
    {
     "data": {
      "image/png": "[encoded data removed]",
      "text/plain": [
       "<Figure size 1200x700 with 2 Axes>"
      ]
     },
     "metadata": {},
     "output_type": "display_data"
    }
   ],
   "source": [
    "classes = train_and_val.classes\n",
    "cf_matrix = multiclass_confusion_matrix(torch.tensor(preds), torch.tensor(truthes), len(classes)).data.numpy()\n",
    "df_cm = pd.DataFrame(cf_matrix / np.sum(cf_matrix, axis=1)[:, None], index = [i for i in classes], columns = [i for i in classes])\n",
    "plt.figure(figsize = (12,7))\n",
    "sn.heatmap(df_cm, annot=True)\n",
    "plt.savefig('confusion_matrix_pertubation.png')"
   ]
  },
  {
   "cell_type": "code",
   "execution_count": 96,
   "metadata": {},
   "outputs": [],
   "source": [
    "noise_data = model, preds, truthes"
   ]
  },
  {
   "cell_type": "code",
   "execution_count": 7,
   "metadata": {},
   "outputs": [],
   "source": [
    "def test(model, loader, n=1):\n",
    "    model.eval()\n",
    "    criterion = nn.CrossEntropyLoss().to(device)\n",
    "    total = 0\n",
    "    correct = 0\n",
    "    loss = 0.0\n",
    "    with torch.no_grad():\n",
    "        for data in loader:\n",
    "            images, labels = [x.to(device) for x in data]\n",
    "            outputs = model(images.to(memory_format=torch.channels_last))\n",
    "            _, predicted = torch.max(outputs, 1)\n",
    "            total += labels.size(0)\n",
    "            correct += (predicted == labels).sum().item()\n",
    "            loss += criterion(outputs, labels).item()\n",
    "    #print(f'Accuracy of the network on the 10000 test images: {100 * correct // total} %')\n",
    "    return correct / total, loss / total"
   ]
  },
  {
   "cell_type": "code",
   "execution_count": 8,
   "metadata": {},
   "outputs": [],
   "source": [
    "def plot(accuracy, test_accuracy, losses, test_losses, lr):\n",
    "    fig, (ax1, ax2) = plt.subplots(1, 2, figsize=(12, 4))\n",
    "    fig.suptitle(f\"Results at lr: {lr}\")\n",
    "    #ax1.set_ylim(0, 1)\n",
    "    ax1.plot(accuracy, label=\"acc train\")\n",
    "    ax1.plot(test_accuracy, label=\"acc test\")\n",
    "    ax1.legend()\n",
    "    ax1.set(xlabel=\"epoch\", ylabel=\"acc\")\n",
    "\n",
    "    ax2.set_yscale('log')\n",
    "    ax2.plot(losses, label=\"train loss\")\n",
    "    ax2.plot(test_losses, label=\"test loss\")\n",
    "    ax2.legend()\n",
    "    ax2.set(xlabel=\"epoch\", ylabel=\"loss\")"
   ]
  }
 ],
 "metadata": {
  "accelerator": "GPU",
  "colab": {
   "gpuType": "T4",
   "provenance": []
  },
  "kernelspec": {
   "display_name": "Python 3 (ipykernel)",
   "language": "python",
   "name": "python3"
  },
  "language_info": {
   "codemirror_mode": {
    "name": "ipython",
    "version": 3
   },
   "file_extension": ".py",
   "mimetype": "text/x-python",
   "name": "python",
   "nbconvert_exporter": "python",
   "pygments_lexer": "ipython3",
   "version": "3.12.3"
  }
 },
 "nbformat": 4,
 "nbformat_minor": 4
}
